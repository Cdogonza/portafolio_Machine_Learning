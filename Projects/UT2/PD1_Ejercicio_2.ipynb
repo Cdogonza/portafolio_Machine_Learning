{
 "cells": [
  {
   "cell_type": "markdown",
   "metadata": {},
   "source": [
    "# Ejercicio 2\n",
    "###### Link Repositorio git@github.com:Cdogonza/InteligenciaArtificial.git"
   ]
  },
  {
   "cell_type": "markdown",
   "metadata": {},
   "source": [
    "#### EL PROBLEMA PLANTEADO"
   ]
  },
  {
   "cell_type": "markdown",
   "metadata": {},
   "source": [
    "- El problema planteado para el Dataset wine descargado de la pagina de UCI es determinar el origen de los vinos mediante un analisis quimico.\n",
    "- Los datos con los que cuenta el dataset son resultados de un analisis quimico de vinos cultivados en la misma region de Italia, pero con diferente procedencia de cultivares.\n",
    "- Este analisis arrogo 13 diferentes componentes en cada uno de los tres tipos de vinos. Estos son los diferentes atributos que se encuentran en el Dataset.\n",
    "- Lista de Atributos: \n",
    "1) Alcohol\n",
    "2) Ácido málico\n",
    "3) Cenizas\n",
    "4) Alcalinidad de la ceniza  \n",
    "5) Magnesio\n",
    "6) Fenoles totales\n",
    "7) Flavanoides\n",
    "8) Fenoles no flavonoides\n",
    "9) Proantocianinas\n",
    "10) Intensidad del color\n",
    "11) Tonalidad\n",
    "12) DO280/OD315 de vinos diluidos\n",
    "13) Prolina  "
   ]
  },
  {
   "cell_type": "markdown",
   "metadata": {},
   "source": [
    "- Dentro de los Atributos, no se cuenta con ningun dato Missing.\n",
    "- Los tipos de datos con los que se cuenta son de tipo Integer y Real\n",
    "- Tenemos una cantidad de 178 ejemplos.\n",
    "- El Dataset cuenta con 10 ejemplos de outliers si aplicamos el operador de Oultier (Distance), quedandonos con una cantidad de ejemplos de 168"
   ]
  }
 ],
 "metadata": {
  "language_info": {
   "name": "python"
  },
  "orig_nbformat": 4
 },
 "nbformat": 4,
 "nbformat_minor": 2
}
