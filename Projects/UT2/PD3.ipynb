{
 "cells": [
  {
   "cell_type": "markdown",
   "metadata": {},
   "source": [
    "##### GONZALO PAZ\n",
    "###### Link Repositorio git@github.com:Cdogonza/InteligenciaArtificial.git"
   ]
  },
  {
   "cell_type": "code",
   "execution_count": 10,
   "metadata": {},
   "outputs": [],
   "source": [
    "\n",
    "from csv import reader\n",
    "from math import sqrt\n",
    "from random import seed\n",
    "from random import randrange\n",
    "import pandas as pd"
   ]
  },
  {
   "cell_type": "code",
   "execution_count": 9,
   "metadata": {},
   "outputs": [],
   "source": [
    "\n",
    "\n",
    "def load_csv(filename):\n",
    "    dataset = list()\n",
    "    with open(filename, 'r') as file:\n",
    "        csv_reader = reader(file, delimiter=';')\n",
    "        for row in csv_reader:\n",
    "            if not row: # Si la fila está vacía, se salta\n",
    "                continue\n",
    "            dataset.append(row)\n",
    "    return dataset\n",
    "\n",
    "# Convierte la columna string a float\n",
    "def str_column_to_float(dataset, column):\n",
    "    for row in dataset:\n",
    "        row[column] = float(row[column].strip())\n",
    "\n",
    "# Encuentra valores min y max para cada columna\n",
    "def dataset_minmax(dataset):\n",
    "    minmax = list()\n",
    "    for i in range(len(dataset[0])):\n",
    "        col_values = [row[i] for row in dataset] # Crea una lista con los valores de la columna\n",
    "        value_min = min(col_values) # Encuentra el valor mínimo\n",
    "        value_max = max(col_values) # Encuentra el valor máximo\n",
    "        minmax.append([value_min, value_max]) # Añade los valores a la lista\n",
    "    return minmax\n",
    "\n",
    "# Normaliza el dataset entre 0 y 1\n",
    "def normalize_dataset(dataframe, min_max_values):\n",
    "    normalized_data = []\n",
    "    for i, (min_val, max_val) in enumerate(min_max_values):\n",
    "        col_data = (dataframe.iloc[:, i] - min_val) / (max_val - min_val)\n",
    "        normalized_data.append(col_data)\n",
    "    normalized_df = pd.concat(normalized_data, axis=1)\n",
    "    normalized_df.columns = dataframe.columns\n",
    "    return normalized_df\n",
    "\n",
    "# Calcular promedio de columna\n",
    "def column_means(dataset):\n",
    "    means = [0 for i in range(len(dataset[0]))] # Crea una lista de 0s con la longitud de la fila\n",
    "    for i in range(len(dataset[0])):\n",
    "        col_values = [row[i] for row in dataset] # Crea una lista con los valores de la columna\n",
    "        means[i] = sum(col_values) / float(len(dataset)) # Calcula el promedio\n",
    "    return means\n",
    "\n",
    "# Calcular desviación estándar de columna\n",
    "def column_stdevs(dataset, means):\n",
    "    stdevs = [0 for i in range(len(dataset[0]))] # Crea una lista de 0s con la longitud de la fila\n",
    "    for i in range(len(dataset[0])):\n",
    "        variance = [pow(row[i]-means[i], 2) for row in dataset] # Crea una lista con los valores de la columna\n",
    "        stdevs[i] = sum(variance) # Calcula la varianza\n",
    "    stdevs = [sqrt(x/(float(len(dataset)-1))) for x in stdevs] # Calcula la desviación estándar\n",
    "    return stdevs\n",
    "\n",
    "# Standardize dataset\n",
    "def standardize_dataset(dataset, mean_values, std_values):\n",
    "    standardized_data = []\n",
    "    for i, (mean_val, std_val) in enumerate(zip(mean_values, std_values)):\n",
    "        col_data = (dataset.iloc[:, i] - mean_val) / std_val\n",
    "        standardized_data.append(col_data)\n",
    "    standardized_df = pd.concat(standardized_data, axis=1)\n",
    "    standardized_df.columns = dataset.columns\n",
    "    return standardized_df\n",
    "\n",
    "# Divide el dataset en conjunto de entrenamiento y prueba\n",
    "def train_test_split(dataset, split=0.60):\n",
    "    train = list()\n",
    "    train_size = split * len(dataset) # Calcula el tamaño del conjunto de entrenamiento\n",
    "    dataset_copy = list(dataset) # Copia el dataset\n",
    "    while len(train) < train_size: # Mientras el tamaño del conjunto de entrenamiento sea menor al tamaño del conjunto de entrenamiento\n",
    "        index = randrange(len(dataset_copy)) # Genera un número aleatorio entre 0 y el tamaño del dataset\n",
    "        train.append(dataset_copy.pop(index)) # Añade el valor del dataset en la posición index a train y lo elimina de dataset_copy\n",
    "    return train, dataset_copy # Devuelve el conjunto de entrenamiento y el conjunto de prueba\n"
   ]
  },
  {
   "cell_type": "markdown",
   "metadata": {},
   "source": [
    "1. Una vez definidas las funciones que utilizaremos en el programa, procedemos a cargar el dataset y a realizar las operaciones correspondientes."
   ]
  },
  {
   "cell_type": "code",
   "execution_count": 11,
   "metadata": {},
   "outputs": [
    {
     "name": "stdout",
     "output_type": "stream",
     "text": [
      "Número de filas: 178\n"
     ]
    }
   ],
   "source": [
    "# Carga del dataset wine.csv proveniente de la misma carpeta\n",
    "filename = './wine.csv'\n",
    "column_names = ['class', 'alcohol', 'malic_acid', 'ash', 'alcalinity_of_ash', 'magnesium', 'total_phenols', 'flavanoids', 'Nonflavanoid_phenols', 'proanthocyanins', 'color_intensity', 'hue', 'OD280/OD315_of_diluted_wines', 'proline']\n",
    "wine = pd.read_csv(filename, names=column_names , sep=';') # Carga el dataset en un dataframe de pandas\n",
    "print('Número de filas: %d' % len(wine))"
   ]
  },
  {
   "cell_type": "markdown",
   "metadata": {},
   "source": [
    "2. Imprimir las primeras 10 filas del dataset"
   ]
  },
  {
   "cell_type": "code",
   "execution_count": 12,
   "metadata": {},
   "outputs": [
    {
     "name": "stdout",
     "output_type": "stream",
     "text": [
      "   class  alcohol  malic_acid  ash  alcalinity_of_ash  magnesium  \\\n",
      "0      1     1423        1.71  243                156        127   \n",
      "1      1      132        1.78  214                112        100   \n",
      "2      1     1316        2.36  267                186        101   \n",
      "3      1     1437        1.95   25                168        113   \n",
      "4      1     1324        2.59  287                 21        118   \n",
      "5      1      142        1.76  245                152        112   \n",
      "6      1     1439        1.87  245                146         96   \n",
      "7      1     1406        2.15  261                176        121   \n",
      "8      1     1483        1.64  217                 14         97   \n",
      "9      1     1386        1.35  227                 16         98   \n",
      "\n",
      "   total_phenols  flavanoids  Nonflavanoid_phenols  proanthocyanins  \\\n",
      "0           2.80        3.06                  0.28             2.29   \n",
      "1           2.65        2.76                  0.26             1.28   \n",
      "2           2.80        3.24                  0.30             2.81   \n",
      "3           3.85        3.49                  0.24             2.18   \n",
      "4           2.80        2.69                  0.39             1.82   \n",
      "5           3.27        3.39                  0.34             1.97   \n",
      "6           2.50        2.52                  0.30             1.98   \n",
      "7           2.60        2.51                  0.31             1.25   \n",
      "8           2.80        2.98                  0.29             1.98   \n",
      "9           2.98        3.15                  0.22             1.85   \n",
      "\n",
      "   color_intensity   hue  OD280/OD315_of_diluted_wines  proline  \n",
      "0              564  1.04                           392     1065  \n",
      "1              438  1.05                            34     1050  \n",
      "2              568  1.03                           317     1185  \n",
      "3               78  0.86                           345     1480  \n",
      "4              432  1.04                           293      735  \n",
      "5              675  1.05                           285     1450  \n",
      "6              525  1.02                           358     1290  \n",
      "7              505  1.06                           358     1295  \n",
      "8               52  1.08                           285     1045  \n",
      "9              722  1.01                           355     1045  \n"
     ]
    }
   ],
   "source": [
    "# Imprimir las primeras 10 filas del dataset\n",
    "print(wine.head(10))"
   ]
  },
  {
   "cell_type": "markdown",
   "metadata": {},
   "source": [
    "3. Convertir strings a float\n",
    "   \n",
    "    No existen valores string en el dataset, por lo que no es necesario realizar esta operación.\n",
    "\n",
    "4. Obtener los valores min y max de cada columna"
   ]
  },
  {
   "cell_type": "code",
   "execution_count": 13,
   "metadata": {},
   "outputs": [
    {
     "name": "stdout",
     "output_type": "stream",
     "text": [
      "class [1.0, 3.0]\n",
      "alcohol [12.0, 1483.0]\n",
      "malic_acid [0.74, 5.8]\n",
      "ash [2.0, 323.0]\n",
      "alcalinity_of_ash [12.0, 285.0]\n",
      "magnesium [70.0, 162.0]\n",
      "total_phenols [0.98, 3.88]\n",
      "flavanoids [0.34, 5.08]\n",
      "Nonflavanoid_phenols [0.13, 0.66]\n",
      "proanthocyanins [0.41, 3.58]\n",
      "color_intensity [2.0, 9899999.0]\n",
      "hue [0.48, 1.71]\n",
      "OD280/OD315_of_diluted_wines [2.0, 392.0]\n",
      "proline [278.0, 1680.0]\n"
     ]
    }
   ],
   "source": [
    "# Valores min y max para cada columna del dataset con el nombre de las columnas\n",
    "minmax = dataset_minmax(wine.values.tolist())\n",
    "for i in minmax:\n",
    "    print(wine.columns[minmax.index(i)], i)"
   ]
  },
  {
   "cell_type": "markdown",
   "metadata": {},
   "source": [
    "5. Hallar la media de los valores de cada columna"
   ]
  },
  {
   "cell_type": "code",
   "execution_count": 14,
   "metadata": {},
   "outputs": [
    {
     "name": "stdout",
     "output_type": "stream",
     "text": [
      "class 1.9382022471910112\n",
      "alcohol 1171.9887640449438\n",
      "malic_acid 2.336348314606741\n",
      "ash 190.3370786516854\n",
      "alcalinity_of_ash 107.47752808988764\n",
      "magnesium 99.74157303370787\n",
      "total_phenols 2.295112359550562\n",
      "flavanoids 2.0292696629213474\n",
      "Nonflavanoid_phenols 0.36185393258426973\n",
      "proanthocyanins 1.5908988764044953\n",
      "color_intensity 55871.7808988764\n",
      "hue 0.9574494382022468\n",
      "OD280/OD315_of_diluted_wines 229.97191011235955\n",
      "proline 746.8932584269663\n"
     ]
    }
   ],
   "source": [
    "promedio = column_means(wine.values.tolist())\n",
    "# El promedio de cada columna\n",
    "for i in promedio:\n",
    "    print(wine.columns[promedio.index(i)], i)"
   ]
  },
  {
   "cell_type": "code",
   "execution_count": 15,
   "metadata": {},
   "outputs": [
    {
     "name": "stdout",
     "output_type": "stream",
     "text": [
      "class 0.7750349899850565\n",
      "alcohol 374.9340731316293\n",
      "malic_acid 1.1171460976144627\n",
      "ash 92.4413931081693\n",
      "alcalinity_of_ash 89.31896788047699\n",
      "magnesium 14.282483515295668\n",
      "total_phenols 0.6258510488339891\n",
      "flavanoids 0.9988586850169465\n",
      "Nonflavanoid_phenols 0.12445334029667939\n",
      "proanthocyanins 0.5723588626747611\n",
      "color_intensity 742017.2177198853\n",
      "hue 0.22857156582982338\n",
      "OD280/OD315_of_diluted_wines 101.65636308491906\n",
      "proline 314.9074742768489\n"
     ]
    }
   ],
   "source": [
    "desviacion_std = column_stdevs(wine.values.tolist(), promedio)\n",
    "# La desviación estándar de cada columna\n",
    "for i in desviacion_std:\n",
    "    print(wine.columns[desviacion_std.index(i)], i)"
   ]
  },
  {
   "cell_type": "markdown",
   "metadata": {},
   "source": [
    "7. Normalizar los valores del dataset"
   ]
  },
  {
   "cell_type": "code",
   "execution_count": 16,
   "metadata": {},
   "outputs": [
    {
     "name": "stdout",
     "output_type": "stream",
     "text": [
      "   class   alcohol  malic_acid       ash  alcalinity_of_ash  magnesium  \\\n",
      "0    0.0  0.959211    0.191700  0.750779           0.527473   0.619565   \n",
      "1    0.0  0.081577    0.205534  0.660436           0.366300   0.326087   \n",
      "2    0.0  0.886472    0.320158  0.825545           0.637363   0.336957   \n",
      "3    0.0  0.968729    0.239130  0.071651           0.571429   0.467391   \n",
      "4    0.0  0.891910    0.365613  0.887850           0.032967   0.521739   \n",
      "5    0.0  0.088375    0.201581  0.757009           0.512821   0.456522   \n",
      "6    0.0  0.970088    0.223320  0.757009           0.490842   0.282609   \n",
      "7    0.0  0.947655    0.278656  0.806854           0.600733   0.554348   \n",
      "8    0.0  1.000000    0.177866  0.669782           0.007326   0.293478   \n",
      "9    0.0  0.934058    0.120553  0.700935           0.014652   0.304348   \n",
      "\n",
      "   total_phenols  flavanoids  Nonflavanoid_phenols  proanthocyanins  \\\n",
      "0       0.627586    0.573840              0.283019         0.593060   \n",
      "1       0.575862    0.510549              0.245283         0.274448   \n",
      "2       0.627586    0.611814              0.320755         0.757098   \n",
      "3       0.989655    0.664557              0.207547         0.558360   \n",
      "4       0.627586    0.495781              0.490566         0.444795   \n",
      "5       0.789655    0.643460              0.396226         0.492114   \n",
      "6       0.524138    0.459916              0.320755         0.495268   \n",
      "7       0.558621    0.457806              0.339623         0.264984   \n",
      "8       0.627586    0.556962              0.301887         0.495268   \n",
      "9       0.689655    0.592827              0.169811         0.454259   \n",
      "\n",
      "   color_intensity       hue  OD280/OD315_of_diluted_wines   proline  \n",
      "0         0.000057  0.455285                      1.000000  0.561341  \n",
      "1         0.000044  0.463415                      0.082051  0.550642  \n",
      "2         0.000057  0.447154                      0.807692  0.646933  \n",
      "3         0.000008  0.308943                      0.879487  0.857347  \n",
      "4         0.000043  0.455285                      0.746154  0.325963  \n",
      "5         0.000068  0.463415                      0.725641  0.835949  \n",
      "6         0.000053  0.439024                      0.912821  0.721826  \n",
      "7         0.000051  0.471545                      0.912821  0.725392  \n",
      "8         0.000005  0.487805                      0.725641  0.547076  \n",
      "9         0.000073  0.430894                      0.905128  0.547076  \n"
     ]
    }
   ],
   "source": [
    "# Normalizar el dataset\n",
    "wine_norm = normalize_dataset(wine, minmax)\n",
    "print(wine_norm.head(10))"
   ]
  },
  {
   "cell_type": "markdown",
   "metadata": {},
   "source": [
    "8. Estandarizar los valores del dataset"
   ]
  },
  {
   "cell_type": "code",
   "execution_count": 17,
   "metadata": {},
   "outputs": [
    {
     "name": "stdout",
     "output_type": "stream",
     "text": [
      "      class   alcohol  malic_acid       ash  alcalinity_of_ash  magnesium  \\\n",
      "0 -1.210529  0.669481   -0.560668  0.569690           0.543249   1.908522   \n",
      "1 -1.210529 -2.773791   -0.498009  0.255978           0.050633   0.018094   \n",
      "2 -1.210529  0.384097    0.021172  0.829314           0.879124   0.088110   \n",
      "3 -1.210529  0.706821   -0.345835 -1.788561           0.677599   0.928300   \n",
      "4 -1.210529  0.405435    0.227053  1.045667          -0.968188   1.278379   \n",
      "5 -1.210529 -2.747120   -0.515911  0.591325           0.498466   0.858284   \n",
      "6 -1.210529  0.712155   -0.417446  0.591325           0.431291  -0.261969   \n",
      "7 -1.210529  0.624140   -0.166807  0.764408           0.767166   1.488427   \n",
      "8 -1.210529  0.829509   -0.623328  0.288431          -1.046559  -0.191954   \n",
      "9 -1.210529  0.570797   -0.882918  0.396607          -1.024167  -0.121938   \n",
      "\n",
      "   total_phenols  flavanoids  Nonflavanoid_phenols  proanthocyanins  \\\n",
      "0       0.806722    1.031908             -0.657708         1.221438   \n",
      "1       0.567048    0.731565             -0.818411        -0.543189   \n",
      "2       0.806722    1.212114             -0.497005         2.129959   \n",
      "3       2.484437    1.462399             -0.979113         1.029251   \n",
      "4       0.806722    0.661485              0.226158         0.400275   \n",
      "5       1.557699    1.362285             -0.175599         0.662349   \n",
      "6       0.327374    0.491291             -0.497005         0.679820   \n",
      "7       0.487157    0.481280             -0.416654        -0.595603   \n",
      "8       0.806722    0.951817             -0.577356         0.679820   \n",
      "9       1.094330    1.122011             -1.139816         0.452690   \n",
      "\n",
      "   color_intensity       hue  OD280/OD315_of_diluted_wines   proline  \n",
      "0        -0.074537  0.361158                      1.593880  1.010159  \n",
      "1        -0.074707  0.404908                     -1.927788  0.962526  \n",
      "2        -0.074532  0.317409                      0.856101  1.391224  \n",
      "3        -0.075192 -0.426341                      1.131539  2.328007  \n",
      "4        -0.074715  0.361158                      0.620011 -0.037767  \n",
      "5        -0.074387  0.404908                      0.541315  2.232741  \n",
      "6        -0.074590  0.273659                      1.259420  1.724655  \n",
      "7        -0.074617  0.448658                      1.259420  1.740533  \n",
      "8        -0.075227  0.536158                      0.541315  0.946649  \n",
      "9        -0.074324  0.229909                      1.229909  0.946649  \n"
     ]
    }
   ],
   "source": [
    "wine_std = standardize_dataset(wine, promedio, desviacion_std)\n",
    "print(wine_std.head(10))"
   ]
  },
  {
   "cell_type": "markdown",
   "metadata": {},
   "source": [
    "9. Dividir el dataset en 2 partes: train y test"
   ]
  },
  {
   "cell_type": "code",
   "execution_count": 18,
   "metadata": {},
   "outputs": [
    {
     "name": "stdout",
     "output_type": "stream",
     "text": [
      "Número de filas de entrenamiento: 107\n",
      "Número de filas de prueba: 71\n"
     ]
    }
   ],
   "source": [
    "# Dividir el dataset en conjunto de entrenamiento y prueba\n",
    "train, test = train_test_split(wine.values.tolist(), 0.60)\n",
    "print('Número de filas de entrenamiento: %d' % len(train))\n",
    "print('Número de filas de prueba: %d' % len(test))"
   ]
  },
  {
   "cell_type": "code",
   "execution_count": 19,
   "metadata": {},
   "outputs": [
    {
     "name": "stdout",
     "output_type": "stream",
     "text": [
      "   class  alcohol  malic_acid    ash  alcalinity_of_ash  magnesium  \\\n",
      "0    2.0   1221.0        1.19  175.0              168.0      151.0   \n",
      "1    3.0   1225.0        3.88   22.0              185.0      112.0   \n",
      "2    2.0   1264.0        1.36  202.0              168.0      100.0   \n",
      "3    1.0   1376.0        1.53   27.0              195.0      132.0   \n",
      "4    1.0   1422.0        1.70   23.0              163.0      118.0   \n",
      "5    1.0    141.0        2.02   24.0              188.0      103.0   \n",
      "6    2.0   1334.0        0.94  236.0               17.0      110.0   \n",
      "7    1.0   1305.0        2.05  322.0               25.0      124.0   \n",
      "8    2.0   1165.0        1.67  262.0               26.0       88.0   \n",
      "9    1.0   1285.0        1.60  252.0              178.0       95.0   \n",
      "\n",
      "   total_phenols  flavanoids  Nonflavanoid_phenols  proanthocyanins  \\\n",
      "0           1.85        1.28                  0.14             2.50   \n",
      "1           1.38        0.78                  0.29             1.14   \n",
      "2           2.02        1.41                  0.53             0.62   \n",
      "3           2.95        2.74                  0.50             1.35   \n",
      "4           3.20        3.00                  0.26             2.03   \n",
      "5           2.75        2.92                  0.32             2.38   \n",
      "6           2.53        1.30                  0.55             0.42   \n",
      "7           2.63        2.68                  0.47             1.92   \n",
      "8           1.92        1.61                  0.40             1.34   \n",
      "9           2.48        2.37                  0.26             1.46   \n",
      "\n",
      "   color_intensity   hue  OD280/OD315_of_diluted_wines  proline  \n",
      "0            285.0  1.28                         307.0    718.0  \n",
      "1            821.0  0.65                           2.0    855.0  \n",
      "2            575.0  0.98                         159.0    450.0  \n",
      "3             54.0  1.25                           3.0   1235.0  \n",
      "4            638.0  0.94                         331.0    970.0  \n",
      "5             62.0  1.07                         275.0   1060.0  \n",
      "6            317.0  1.02                         193.0    750.0  \n",
      "7            358.0  1.13                          32.0    830.0  \n",
      "8             26.0  1.36                         321.0    562.0  \n",
      "9            393.0  1.09                         363.0   1015.0  \n"
     ]
    }
   ],
   "source": [
    "# Imprimir las primeras 10 filas del conjunto de entrenamiento, con el nombre de cada columna\n",
    "train = pd.DataFrame(train, columns=column_names)\n",
    "print(train.head(10))"
   ]
  },
  {
   "cell_type": "code",
   "execution_count": 20,
   "metadata": {},
   "outputs": [
    {
     "name": "stdout",
     "output_type": "stream",
     "text": [
      "   class  alcohol  malic_acid    ash  alcalinity_of_ash  magnesium  \\\n",
      "0    1.0    132.0        1.78  214.0              112.0      100.0   \n",
      "1    1.0   1324.0        2.59  287.0               21.0      118.0   \n",
      "2    1.0    142.0        1.76  245.0              152.0      112.0   \n",
      "3    1.0   1406.0        2.15  261.0              176.0      121.0   \n",
      "4    1.0   1483.0        1.64  217.0               14.0       97.0   \n",
      "5    1.0    141.0        2.16   23.0               18.0      105.0   \n",
      "6    1.0   1375.0        1.73  241.0               16.0       89.0   \n",
      "7    1.0   1475.0        1.73  239.0              114.0       91.0   \n",
      "8    1.0   1438.0        1.87  238.0               12.0      102.0   \n",
      "9    1.0   1363.0        1.81   27.0              172.0      112.0   \n",
      "\n",
      "   total_phenols  flavanoids  Nonflavanoid_phenols  proanthocyanins  \\\n",
      "0           2.65        2.76                  0.26             1.28   \n",
      "1           2.80        2.69                  0.39             1.82   \n",
      "2           3.27        3.39                  0.34             1.97   \n",
      "3           2.60        2.51                  0.31             1.25   \n",
      "4           2.80        2.98                  0.29             1.98   \n",
      "5           2.95        3.32                  0.22             2.38   \n",
      "6           2.60        2.76                  0.29             1.81   \n",
      "7           3.10        3.69                  0.43             2.81   \n",
      "8           3.30        3.64                  0.29             2.96   \n",
      "9           2.85        2.91                  0.30             1.46   \n",
      "\n",
      "   color_intensity   hue  OD280/OD315_of_diluted_wines  proline  \n",
      "0            438.0  1.05                          34.0   1050.0  \n",
      "1            432.0  1.04                         293.0    735.0  \n",
      "2            675.0  1.05                         285.0   1450.0  \n",
      "3            505.0  1.06                         358.0   1295.0  \n",
      "4             52.0  1.08                         285.0   1045.0  \n",
      "5            575.0  1.25                         317.0   1510.0  \n",
      "6             56.0  1.15                          29.0   1320.0  \n",
      "7             54.0  1.25                         273.0   1150.0  \n",
      "8             75.0  1.20                           3.0   1547.0  \n",
      "9             73.0  1.28                         288.0   1310.0  \n"
     ]
    }
   ],
   "source": [
    "# Imprimir las primeras 10 filas del conjunto de prueba\n",
    "test= pd.DataFrame(test, columns=column_names)\n",
    "print(test.head(10))"
   ]
  }
 ],
 "metadata": {
  "kernelspec": {
   "display_name": "Python 3",
   "language": "python",
   "name": "python3"
  },
  "language_info": {
   "codemirror_mode": {
    "name": "ipython",
    "version": 3
   },
   "file_extension": ".py",
   "mimetype": "text/x-python",
   "name": "python",
   "nbconvert_exporter": "python",
   "pygments_lexer": "ipython3",
   "version": "3.11.0"
  },
  "orig_nbformat": 4
 },
 "nbformat": 4,
 "nbformat_minor": 2
}
